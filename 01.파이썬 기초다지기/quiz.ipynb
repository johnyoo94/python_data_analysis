{
 "cells": [
  {
   "cell_type": "code",
   "execution_count": 1,
   "id": "35a84cb2-fdf8-494b-93c8-1ba65fe944bb",
   "metadata": {},
   "outputs": [],
   "source": [
    "import pandas as pd\n",
    "import os"
   ]
  },
  {
   "cell_type": "code",
   "execution_count": 4,
   "id": "6e4bd8da-0ecf-461f-95b4-b4988b831cd7",
   "metadata": {},
   "outputs": [],
   "source": [
    "indata = pd.read_csv(\"../dataset/kopo_product_volume.csv\")"
   ]
  },
  {
   "cell_type": "code",
   "execution_count": 5,
   "id": "b83a4d13-9cdf-4f5a-90f6-0d9c6bdbd0ec",
   "metadata": {},
   "outputs": [
    {
     "data": {
      "text/html": [
       "<div>\n",
       "<style scoped>\n",
       "    .dataframe tbody tr th:only-of-type {\n",
       "        vertical-align: middle;\n",
       "    }\n",
       "\n",
       "    .dataframe tbody tr th {\n",
       "        vertical-align: top;\n",
       "    }\n",
       "\n",
       "    .dataframe thead th {\n",
       "        text-align: right;\n",
       "    }\n",
       "</style>\n",
       "<table border=\"1\" class=\"dataframe\">\n",
       "  <thead>\n",
       "    <tr style=\"text-align: right;\">\n",
       "      <th></th>\n",
       "      <th>Unnamed: 0</th>\n",
       "      <th>REGIONID</th>\n",
       "      <th>PRODUCTGROUP</th>\n",
       "      <th>YEARWEEK</th>\n",
       "      <th>VOLUME</th>\n",
       "      <th>TEST</th>\n",
       "    </tr>\n",
       "  </thead>\n",
       "  <tbody>\n",
       "    <tr>\n",
       "      <th>0</th>\n",
       "      <td>0</td>\n",
       "      <td>A01</td>\n",
       "      <td>ST0001</td>\n",
       "      <td>201415</td>\n",
       "      <td>810144</td>\n",
       "      <td>kopo</td>\n",
       "    </tr>\n",
       "    <tr>\n",
       "      <th>1</th>\n",
       "      <td>1</td>\n",
       "      <td>A01</td>\n",
       "      <td>ST0002</td>\n",
       "      <td>201415</td>\n",
       "      <td>128999</td>\n",
       "      <td>kopo</td>\n",
       "    </tr>\n",
       "  </tbody>\n",
       "</table>\n",
       "</div>"
      ],
      "text/plain": [
       "   Unnamed: 0 REGIONID PRODUCTGROUP  YEARWEEK  VOLUME  TEST\n",
       "0           0      A01       ST0001    201415  810144  kopo\n",
       "1           1      A01       ST0002    201415  128999  kopo"
      ]
     },
     "execution_count": 5,
     "metadata": {},
     "output_type": "execute_result"
    }
   ],
   "source": [
    "indata.head(2)"
   ]
  },
  {
   "cell_type": "code",
   "execution_count": 6,
   "id": "3423862b-7bbb-4a53-9adb-f22da81d9e78",
   "metadata": {},
   "outputs": [
    {
     "data": {
      "text/plain": [
       "['cars.csv',\n",
       " 'customer.csv',\n",
       " 'customerdata.csv',\n",
       " 'customerdata.xlsx',\n",
       " 'customerdata_out.csv',\n",
       " 'customerdata_out.xlsx',\n",
       " 'economy.csv',\n",
       " 'feature_regression_example.csv',\n",
       " 'international-airline-passengers.csv',\n",
       " 'IRIS.csv',\n",
       " 'joindata1.csv',\n",
       " 'joindata2.csv',\n",
       " 'join_kopo_product_volume.csv',\n",
       " 'join_region_master.csv',\n",
       " 'join_region_master2.csv',\n",
       " 'kopo_channel_seasonality_new.csv',\n",
       " 'kopo_customerdata.csv',\n",
       " 'kopo_decision_tree_all_new.csv',\n",
       " 'kopo_parameter.csv',\n",
       " 'kopo_product_volume.csv',\n",
       " 'kopo_product_volume0.csv',\n",
       " 'kopo_product_volume2.csv',\n",
       " 'kopo_product_volume_out.csv',\n",
       " 'kopo_product_volume__out.csv',\n",
       " 'kopo_region_mst.csv',\n",
       " 'kopo_region_mst_hangul.csv',\n",
       " 'kopo_sales0.csv',\n",
       " 'kopo_sales2.csv',\n",
       " 'missingValue.xlsx',\n",
       " 'pima-indians-diabetes.csv',\n",
       " 'pro_actual_sales.csv',\n",
       " 'pro_promotion.csv',\n",
       " 'sample_kopo.csv',\n",
       " 'seasonality_data.csv',\n",
       " 'selloutdata_out.csv',\n",
       " 'shampoo.csv',\n",
       " 'st0001data.csv',\n",
       " 'st0002data.csv',\n",
       " 'student_middle.csv',\n",
       " 'student_middle_result.csv',\n",
       " 'student_out.csv']"
      ]
     },
     "execution_count": 6,
     "metadata": {},
     "output_type": "execute_result"
    }
   ],
   "source": [
    "os.listdir(\"../dataset/\")"
   ]
  },
  {
   "cell_type": "code",
   "execution_count": 7,
   "id": "cc117f95-1fa3-4b9a-9a63-ed56b0c6f401",
   "metadata": {},
   "outputs": [
    {
     "name": "stdout",
     "output_type": "stream",
     "text": [
      "dataset2 폴더가 생성됨: ../dataset_out\n"
     ]
    }
   ],
   "source": [
    "# 생성할 폴더 정의\n",
    "targetDir = \"../dataset_out\"\n",
    "#생성할 폴더 존재하면 생성 X, 존재 안하면 생성O\n",
    "if os.path.exists(targetDir):\n",
    "    print(f\"dataset2 폴더가 이미 존재: {targetDir}\")\n",
    "else:\n",
    "    os.makedirs(targetDir)\n",
    "    print(f\"dataset2 폴더가 생성됨: {targetDir}\")"
   ]
  },
  {
   "cell_type": "code",
   "execution_count": 8,
   "id": "cff170bc-d5f9-4f33-9531-6f4a34c5078c",
   "metadata": {},
   "outputs": [],
   "source": [
    "mainFolder = \"../dataset/\"\n",
    "outFolder = \"../dataset_out/\""
   ]
  },
  {
   "cell_type": "code",
   "execution_count": 11,
   "id": "75c86b49-4e80-4f6a-8401-f49f2d1319ed",
   "metadata": {},
   "outputs": [
    {
     "name": "stdout",
     "output_type": "stream",
     "text": [
      "['cars.csv', 'customer.csv', 'customerdata.csv', 'customerdata.xlsx', 'customerdata_out.csv', 'customerdata_out.xlsx', 'economy.csv', 'feature_regression_example.csv', 'international-airline-passengers.csv', 'IRIS.csv', 'joindata1.csv', 'joindata2.csv', 'join_kopo_product_volume.csv', 'join_region_master.csv', 'join_region_master2.csv', 'kopo_channel_seasonality_new.csv', 'kopo_customerdata.csv', 'kopo_decision_tree_all_new.csv', 'kopo_parameter.csv', 'kopo_product_volume.csv', 'kopo_product_volume0.csv', 'kopo_product_volume2.csv', 'kopo_product_volume_out.csv', 'kopo_product_volume__out.csv', 'kopo_region_mst.csv', 'kopo_region_mst_hangul.csv', 'kopo_sales0.csv', 'kopo_sales2.csv', 'missingValue.xlsx', 'pima-indians-diabetes.csv', 'pro_actual_sales.csv', 'pro_promotion.csv', 'sample_kopo.csv', 'seasonality_data.csv', 'selloutdata_out.csv', 'shampoo.csv', 'st0001data.csv', 'st0002data.csv', 'student_middle.csv', 'student_middle_result.csv', 'student_out.csv']\n"
     ]
    }
   ],
   "source": [
    "## 폴더안에 잇는거 전부다 보여줘, 타입이 리스트 이며[], 전부다 file 임\n",
    "fileNames = os.listdir(mainFolder)\n",
    "print(fileNames)"
   ]
  },
  {
   "cell_type": "code",
   "execution_count": 15,
   "id": "e58a95f5-e8cc-4ca8-b523-ca5df7dcc1b7",
   "metadata": {},
   "outputs": [
    {
     "data": {
      "text/plain": [
       "'../dataset/customer.csv'"
      ]
     },
     "execution_count": 15,
     "metadata": {},
     "output_type": "execute_result"
    }
   ],
   "source": [
    "mainFolder + fileNames[1]"
   ]
  },
  {
   "cell_type": "code",
   "execution_count": 16,
   "id": "5d2b88da-e0d0-44cc-9e89-083fcceec961",
   "metadata": {},
   "outputs": [],
   "source": [
    "fileNamesLen = len(fileNames)"
   ]
  },
  {
   "cell_type": "code",
   "execution_count": 17,
   "id": "ad33d232-e6de-4c05-b414-81962a66475a",
   "metadata": {},
   "outputs": [],
   "source": [
    "keyWord = \"kopo_product\"\n",
    "keyWord2 = \".csv\""
   ]
  },
  {
   "cell_type": "code",
   "execution_count": 20,
   "id": "ae66c6ca-3487-4c33-9e7b-c8881d148f8c",
   "metadata": {},
   "outputs": [
    {
     "data": {
      "text/plain": [
       "12"
      ]
     },
     "execution_count": 20,
     "metadata": {},
     "output_type": "execute_result"
    }
   ],
   "source": [
    "keyWordLen = len(keyWord)\n",
    "len(keyWord)\n",
    "# keyWord2Len = len(keyWord2)\n",
    "# len(keyWord2)"
   ]
  },
  {
   "cell_type": "code",
   "execution_count": 29,
   "id": "0cc2434a-09b2-4fd9-9ff9-f4893992fc8d",
   "metadata": {},
   "outputs": [
    {
     "data": {
      "text/plain": [
       "True"
      ]
     },
     "execution_count": 29,
     "metadata": {},
     "output_type": "execute_result"
    }
   ],
   "source": [
    "eachFile = fileNames[19]\n",
    "eachFile[0:12] == keyWord\n",
    "# eachFile[-4:] == keyWord2"
   ]
  },
  {
   "cell_type": "code",
   "execution_count": 30,
   "id": "3dd65889-db3c-4e66-8dcb-77b36e7dc8ef",
   "metadata": {},
   "outputs": [],
   "source": [
    "from datetime import datetime"
   ]
  },
  {
   "cell_type": "code",
   "execution_count": 37,
   "id": "681245ee-8721-4ba5-974b-2206583ae6da",
   "metadata": {},
   "outputs": [],
   "source": [
    "for i in range(0, fileNamesLen):\n",
    "    eachFile = fileNames[i]\n",
    "    if eachFile[0:12] == keyWord and eachFile[-4:] == keyWord2:\n",
    "        indata = pd.read_csv(mainFolder + eachFile)\n",
    "        now = datetime.now()\n",
    "        fileNames_format = \"%Y%m%d%H%M\"\n",
    "        formatted_datetime = now.strftime(fileNames_format)\n",
    "        filename = f\"{formatted_datetime}.csv\"\n",
    "        indata.to_csv(outFolder + eachFile[:-4]+filename)\n",
    "    else:\n",
    "        pass"
   ]
  },
  {
   "cell_type": "code",
   "execution_count": 42,
   "id": "43bcd971-cbf0-4718-86f5-d98f5b1a293f",
   "metadata": {},
   "outputs": [
    {
     "name": "stdout",
     "output_type": "stream",
     "text": [
      "['kopo_product_volume0202403251851.csv', 'kopo_product_volume202403251851.csv', 'kopo_product_volume2202403251851.csv', 'kopo_product_volume_out202403251851.csv', 'kopo_product_volume__out202403251851.csv']\n"
     ]
    }
   ],
   "source": [
    "fileNames = os.listdir(outFolder)\n",
    "print(fileNames)"
   ]
  },
  {
   "cell_type": "code",
   "execution_count": null,
   "id": "5c8d5061-688e-48e3-b16d-e8550cf539fa",
   "metadata": {},
   "outputs": [],
   "source": []
  }
 ],
 "metadata": {
  "kernelspec": {
   "display_name": "Python 3 (ipykernel)",
   "language": "python",
   "name": "python3"
  },
  "language_info": {
   "codemirror_mode": {
    "name": "ipython",
    "version": 3
   },
   "file_extension": ".py",
   "mimetype": "text/x-python",
   "name": "python",
   "nbconvert_exporter": "python",
   "pygments_lexer": "ipython3",
   "version": "3.10.11"
  }
 },
 "nbformat": 4,
 "nbformat_minor": 5
}
