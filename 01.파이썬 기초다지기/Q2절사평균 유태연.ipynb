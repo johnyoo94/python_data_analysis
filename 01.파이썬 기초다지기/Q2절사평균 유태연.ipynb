{
 "cells": [
  {
   "cell_type": "code",
   "execution_count": 7,
   "id": "77655325-1bdf-45c0-8567-cb0acdc4adc9",
   "metadata": {},
   "outputs": [],
   "source": [
    "import pandas as pd"
   ]
  },
  {
   "cell_type": "markdown",
   "id": "8dd73e76-408a-4340-986b-3d10a52498ec",
   "metadata": {},
   "source": [
    "#### 1. 데이터 불러오기"
   ]
  },
  {
   "cell_type": "code",
   "execution_count": 8,
   "id": "f1b83fe3-2d57-4634-a3db-e56a3821c959",
   "metadata": {},
   "outputs": [],
   "source": [
    "csData = pd.read_csv(\"../dataset/kopo_customerdata.csv\")"
   ]
  },
  {
   "cell_type": "code",
   "execution_count": 17,
   "id": "978f32f2-c108-4256-8cfc-dd52932f9a03",
   "metadata": {},
   "outputs": [],
   "source": [
    "### 2. TOTAL_AMOUNT 컬럼 내 최소, 최대값을 모두 삭제한 평균을 구하시오.\n",
    "amountList = csData.TOTAL_AMOUNT.tolist()"
   ]
  },
  {
   "cell_type": "code",
   "execution_count": 11,
   "id": "dff72e51-3c7d-448b-8de0-6c8353388d6e",
   "metadata": {},
   "outputs": [
    {
     "name": "stdout",
     "output_type": "stream",
     "text": [
      "최소값0 최대값3103500\n"
     ]
    }
   ],
   "source": [
    "minValue = min(amountList)\n",
    "maxValue = max(amountList)\n",
    "print(f\"최소값{minValue} 최대값{maxValue}\")"
   ]
  },
  {
   "cell_type": "code",
   "execution_count": 19,
   "id": "2d8b9950-a893-40c7-9925-fc994fda9891",
   "metadata": {},
   "outputs": [
    {
     "name": "stdout",
     "output_type": "stream",
     "text": [
      "256 1\n"
     ]
    }
   ],
   "source": [
    "amountList.count (minValue)\n",
    "amountList.count (maxValue)\n",
    "print(amountList.count (minValue), amountList.count (maxValue))"
   ]
  },
  {
   "cell_type": "code",
   "execution_count": 20,
   "id": "2b373fa9-85a5-4ca6-bc4f-b6c90e1a0334",
   "metadata": {},
   "outputs": [
    {
     "name": "stdout",
     "output_type": "stream",
     "text": [
      "35218.95312635417\n"
     ]
    }
   ],
   "source": [
    "amountList.remove(min(amountList))\n",
    "amountList.remove(max(amountList))\n",
    "amountListSum = sum(amountList)\n",
    "amountListLen = len(amountList)\n",
    "answer = amountListSum / amountListLen\n",
    "print(answer)"
   ]
  },
  {
   "cell_type": "code",
   "execution_count": 1,
   "id": "34196d3e-8aea-4891-9ba0-756db4bdd3d5",
   "metadata": {},
   "outputs": [
    {
     "name": "stdout",
     "output_type": "stream",
     "text": [
      "A01\n",
      "A02\n",
      "A03\n"
     ]
    }
   ],
   "source": [
    "nationList = ['A01', '한국', 'A02', '미국', 'A03', '프랑스']\n",
    "nationListLen = len(nationList)\n",
    "for i in range(0, nationListLen):\n",
    "  if(nationList[i].count('A')):\n",
    "    print(nationList[i])\n",
    "  else:\n",
    "    pass"
   ]
  },
  {
   "cell_type": "code",
   "execution_count": null,
   "id": "56c393f6-ca7b-4aa4-bc32-2806f0580c58",
   "metadata": {},
   "outputs": [],
   "source": []
  }
 ],
 "metadata": {
  "kernelspec": {
   "display_name": "Python 3 (ipykernel)",
   "language": "python",
   "name": "python3"
  },
  "language_info": {
   "codemirror_mode": {
    "name": "ipython",
    "version": 3
   },
   "file_extension": ".py",
   "mimetype": "text/x-python",
   "name": "python",
   "nbconvert_exporter": "python",
   "pygments_lexer": "ipython3",
   "version": "3.10.11"
  }
 },
 "nbformat": 4,
 "nbformat_minor": 5
}
