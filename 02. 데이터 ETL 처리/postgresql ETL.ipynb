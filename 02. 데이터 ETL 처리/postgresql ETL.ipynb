{
 "cells": [
  {
   "cell_type": "code",
   "execution_count": 1,
   "id": "5b1ed5dd-886a-44e0-b18e-9b7d95e51696",
   "metadata": {},
   "outputs": [],
   "source": [
    "# 라이브러리 선언\n",
    "# postgresql 용 라이브러리\n",
    "import psycopg2\n",
    "# 행과열 처리용 라이브러리\n",
    "import pandas as pd\n",
    "# db접속 엔진 생성용 라이브러리\n",
    "from sqlalchemy import create_engine"
   ]
  },
  {
   "cell_type": "code",
   "execution_count": null,
   "id": "f6863af7-4486-4c60-84ad-2913a78c602d",
   "metadata": {},
   "outputs": [],
   "source": [
    "dbPrefix = \"postgresql\"\n",
    "dbId=\"\"\n",
    "dbPw=\"\"\n",
    "dbIp=\"\"\n",
    "dbPort=\"5432\"\n",
    "dbName=\"postgres\"\n",
    "##엔진생성\n",
    "pgEngine = create_engine(f\"{dbPrefix}://{dbId}:{dbPw}@{dbIp}:{dbPort}/{dbName}\")\n",
    "#db 데이터 불러오기\n",
    "indata = pd.read_sql_query(sql = \"SELECT * FROM csdata_kopo\", con  = enginePg)"
   ]
  },
  {
   "cell_type": "code",
   "execution_count": null,
   "id": "bb774809-f748-4e46-bfd8-ba4c606e9438",
   "metadata": {},
   "outputs": [],
   "source": [
    "indata.to_sql(name = tableName,\n",
    "              con = pgEngineLocal,\n",
    "              if_exists=\"replace\",\n",
    "              index = False )"
   ]
  },
  {
   "cell_type": "code",
   "execution_count": null,
   "id": "3ccf972c-419c-447a-b092-685b3a668c1a",
   "metadata": {},
   "outputs": [],
   "source": [
    "dbPrefix = \"postgresql\"\n",
    "dbId=\"postgres\"\n",
    "dbPw=\"postgres\"\n",
    "dbIp=\"127.0.0.1\"\n",
    "dbPort=\"5432\"\n",
    "dbName=\"postgres\"\n",
    "pgEngineLocal = create_engine(f\"{dbPrefix}://{dbId}:{dbPw}@{dbIp}:{dbPort}/{dbName}\")"
   ]
  },
  {
   "cell_type": "code",
   "execution_count": null,
   "id": "ba84f20c-bed3-4804-bf18-73bee0b1a695",
   "metadata": {},
   "outputs": [],
   "source": []
  },
  {
   "cell_type": "code",
   "execution_count": null,
   "id": "8011fb3e-38fe-4bf2-9173-a01114524707",
   "metadata": {},
   "outputs": [],
   "source": [
    "indata[\"content\"]=\"kopo_34556\"\n",
    "tableName = \"kopo_0405\"\n",
    "indata.columns = indata.columns.str.lower()"
   ]
  },
  {
   "cell_type": "code",
   "execution_count": null,
   "id": "fc071961-7cbe-44aa-8c71-3d69d4ffe969",
   "metadata": {},
   "outputs": [],
   "source": [
    "indata.to_sql(name = tableName,\n",
    "              con = pgEngineLocal,\n",
    "              if_exists=\"replace\")"
   ]
  }
 ],
 "metadata": {
  "kernelspec": {
   "display_name": "Python 3 (ipykernel)",
   "language": "python",
   "name": "python3"
  },
  "language_info": {
   "codemirror_mode": {
    "name": "ipython",
    "version": 3
   },
   "file_extension": ".py",
   "mimetype": "text/x-python",
   "name": "python",
   "nbconvert_exporter": "python",
   "pygments_lexer": "ipython3",
   "version": "3.10.11"
  }
 },
 "nbformat": 4,
 "nbformat_minor": 5
}
