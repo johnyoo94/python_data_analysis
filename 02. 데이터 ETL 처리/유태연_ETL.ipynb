{
 "cells": [
  {
   "cell_type": "code",
   "execution_count": 1,
   "id": "2ed10312-7b8b-4b1e-8d4e-16d68b6eb96f",
   "metadata": {},
   "outputs": [],
   "source": [
    "import pandas as pd\n",
    "import os\n",
    "from sqlalchemy import create_engine, types\n",
    "import psycopg2\n",
    "import pymysql"
   ]
  },
  {
   "cell_type": "code",
   "execution_count": 3,
   "id": "6717e9be-e2c9-4d57-bf19-7f1ed32b3c49",
   "metadata": {},
   "outputs": [],
   "source": [
    "indata=pd.read_csv(\"../dataset2/etl_param.csv\")"
   ]
  },
  {
   "cell_type": "code",
   "execution_count": 4,
   "id": "cffb6502-5c57-43dd-84c6-8f144775babf",
   "metadata": {
    "scrolled": true
   },
   "outputs": [
    {
     "data": {
      "text/html": [
       "<div>\n",
       "<style scoped>\n",
       "    .dataframe tbody tr th:only-of-type {\n",
       "        vertical-align: middle;\n",
       "    }\n",
       "\n",
       "    .dataframe tbody tr th {\n",
       "        vertical-align: top;\n",
       "    }\n",
       "\n",
       "    .dataframe thead th {\n",
       "        text-align: right;\n",
       "    }\n",
       "</style>\n",
       "<table border=\"1\" class=\"dataframe\">\n",
       "  <thead>\n",
       "    <tr style=\"text-align: right;\">\n",
       "      <th></th>\n",
       "      <th>PREFIX</th>\n",
       "      <th>DBNAME</th>\n",
       "      <th>IP</th>\n",
       "      <th>PORT</th>\n",
       "      <th>ID</th>\n",
       "      <th>PW</th>\n",
       "      <th>PATH</th>\n",
       "      <th>PARAM_CATEGORY</th>\n",
       "      <th>USE_YN</th>\n",
       "    </tr>\n",
       "  </thead>\n",
       "  <tbody>\n",
       "    <tr>\n",
       "      <th>0</th>\n",
       "      <td>oracle+cx_oracle</td>\n",
       "      <td>orcl</td>\n",
       "      <td>192.168.110.111</td>\n",
       "      <td>1521</td>\n",
       "      <td>TAEYEON</td>\n",
       "      <td>TAEYEON</td>\n",
       "      <td>../dataset2</td>\n",
       "      <td>COMMON</td>\n",
       "      <td>Y</td>\n",
       "    </tr>\n",
       "    <tr>\n",
       "      <th>1</th>\n",
       "      <td>postgresql</td>\n",
       "      <td>postgres</td>\n",
       "      <td>192.168.110.111</td>\n",
       "      <td>5432</td>\n",
       "      <td>TAEYEON</td>\n",
       "      <td>TAEYEON</td>\n",
       "      <td>../dataset2</td>\n",
       "      <td>COMMON</td>\n",
       "      <td>Y</td>\n",
       "    </tr>\n",
       "    <tr>\n",
       "      <th>2</th>\n",
       "      <td>mysql+pymysql</td>\n",
       "      <td>mariadb</td>\n",
       "      <td>192.168.110.111</td>\n",
       "      <td>3306</td>\n",
       "      <td>TAEYEON</td>\n",
       "      <td>TAEYEON</td>\n",
       "      <td>../dataset2</td>\n",
       "      <td>COMMON</td>\n",
       "      <td>Y</td>\n",
       "    </tr>\n",
       "  </tbody>\n",
       "</table>\n",
       "</div>"
      ],
      "text/plain": [
       "             PREFIX    DBNAME               IP  PORT       ID       PW  \\\n",
       "0  oracle+cx_oracle      orcl  192.168.110.111  1521  TAEYEON  TAEYEON   \n",
       "1        postgresql  postgres  192.168.110.111  5432  TAEYEON  TAEYEON   \n",
       "2     mysql+pymysql   mariadb  192.168.110.111  3306  TAEYEON  TAEYEON   \n",
       "\n",
       "          PATH PARAM_CATEGORY USE_YN  \n",
       "0  ../dataset2         COMMON      Y  \n",
       "1  ../dataset2         COMMON      Y  \n",
       "2  ../dataset2         COMMON      Y  "
      ]
     },
     "execution_count": 4,
     "metadata": {},
     "output_type": "execute_result"
    }
   ],
   "source": [
    "indata"
   ]
  },
  {
   "cell_type": "code",
   "execution_count": 5,
   "id": "9affc314-4da7-41cf-a0f3-fe15d3ffea4e",
   "metadata": {},
   "outputs": [],
   "source": [
    "#list 형태가 아니기 때문에 접근하려면 loc 사용해야함.\n",
    "dbList = indata.loc[(indata['USE_YN'] == 'Y')] \n",
    "\n",
    "for i in range(len(dbList)):\n",
    "    indataDF = dbList.iloc[i]\n",
    "    PREFIX = indataDF[\"PREFIX\"]\n",
    "    ID = indataDF[\"ID\"]\n",
    "    PW = indataDF[\"PW\"]\n",
    "    IP = indataDF[\"IP\"]         \n",
    "    PORT = indataDF[\"PORT\"]\n",
    "    DBNAME = indataDF[\"DBNAME\"]\n",
    "    \n",
    "    if indataDF[\"PREFIX\"] == \"oracle+cx_oracle\":\n",
    "        #print(\"oracle\")\n",
    "        engine = create_engine(f\"{PREFIX}://{ID}:{PW}@{IP}:{PORT}/{DBNAME}\")\n",
    "    elif indataDF[\"PREFIX\"] == \"postgresql\":\n",
    "        #print(\"postgres\")\n",
    "        engine = create_engine(f\"{PREFIX}://{ID}:{PW}@{IP}:{PORT}/{DBNAME}\")\n",
    "    elif indataDF[\"PREFIX\"] == \"mysql+pymysql\":\n",
    "        #print(\"maria\") \n",
    "        engine = create_engine(f\"{PREFIX}://{ID}:{PW}@{IP}:{PORT}/{DBNAME}\")\n",
    "    else :\n",
    "        print(\"해당되는 값 없음.\")"
   ]
  },
  {
   "cell_type": "code",
   "execution_count": 6,
   "id": "ec1375ff-b50c-49fc-b8bb-ef2586491c72",
   "metadata": {},
   "outputs": [],
   "source": [
    "# if indata.loc[(indata['USE_YN'] == 'Y') & (indata['PREFIX'] == 'oracle+cx_oracle')]:\n",
    "#     for i in range(len(indata.columns)):\n",
    "#         eachDB = dbList.loc[0]\n",
    "\n",
    "#         PREFIX = eachDB.dbPrefix\n",
    "#         ID = eachDB.dbId\n",
    "#         PW = eachDB.dbPw\n",
    "#         IP = eachDB.dbIp         \n",
    "#         PORT = eachDB.dbPort\n",
    "#         DBNAME = eachDB.dbName\n",
    "#         engine = create_engine(f\"{PREFIX}://{ID}:{PW}@{IP}:{PORT}/{DBNAME}\")"
   ]
  },
  {
   "cell_type": "code",
   "execution_count": 7,
   "id": "b184ffac-2238-4e31-8375-4cc92556cda7",
   "metadata": {},
   "outputs": [],
   "source": [
    "# if indata.loc[indata['prefix'] == 'oracle+cx_oracle'].shape[0] > 0:\n",
    "#     for i in range(len(indata.columns)):\n",
    "#         print(indata.iloc[0, i])\n",
    "# elif indata.loc[indata['prefix'] == 'postgresql'].shape[0] > 0:\n",
    "#     for i in range(len(indata.columns)):\n",
    "#         print(indata.iloc[1, i])\n",
    "# elif indata.loc[indata['prefix'] == 'mysql+pymysql'].shape[0] > 0:\n",
    "#     for i in range(len(indata.columns)):\n",
    "#         print(indata.iloc[2, i])"
   ]
  },
  {
   "cell_type": "code",
   "execution_count": 8,
   "id": "9d4881c0-1781-4a67-b7c4-383f1b81ae8d",
   "metadata": {},
   "outputs": [
    {
     "data": {
      "text/plain": [
       "['.ipynb_checkpoints',\n",
       " 'CHEON.csv',\n",
       " 'CHESUNGBUN.csv',\n",
       " 'CHOLESTEROL.csv',\n",
       " 'electricityConsumptionAndProductioction.csv',\n",
       " 'etl_param.csv',\n",
       " 'GOMILDO_CHOLESTEROL.csv',\n",
       " 'HYULAP.csv',\n",
       " 'HYULDANG.csv',\n",
       " 'JEOMILDO_CHOLESTEROL.csv',\n",
       " 'JUNGSUNGJIBANG.csv',\n",
       " 'PEEUM.csv',\n",
       " 'SANSOPOHWADO.csv',\n",
       " 'SIMBAKSU.csv',\n",
       " 'SIMJANGEUM.csv',\n",
       " 'US_honey_production_dataset.csv']"
      ]
     },
     "execution_count": 8,
     "metadata": {},
     "output_type": "execute_result"
    }
   ],
   "source": [
    "filepath = \"../dataset2/\"\n",
    "lists = os.listdir(filepath)\n",
    "lists"
   ]
  },
  {
   "cell_type": "code",
   "execution_count": 9,
   "id": "263f05b3-f2ce-4a26-acb0-cdc6efe3f23e",
   "metadata": {},
   "outputs": [
    {
     "ename": "UnboundLocalError",
     "evalue": "local variable 'tableName' referenced before assignment",
     "output_type": "error",
     "traceback": [
      "\u001b[1;31m---------------------------------------------------------------------------\u001b[0m",
      "\u001b[1;31mPermissionError\u001b[0m                           Traceback (most recent call last)",
      "Cell \u001b[1;32mIn[9], line 5\u001b[0m, in \u001b[0;36mcsvToTable\u001b[1;34m()\u001b[0m\n\u001b[0;32m      4\u001b[0m \u001b[38;5;28;01mtry\u001b[39;00m:\n\u001b[1;32m----> 5\u001b[0m     inData \u001b[38;5;241m=\u001b[39m \u001b[43mpd\u001b[49m\u001b[38;5;241;43m.\u001b[39;49m\u001b[43mread_csv\u001b[49m\u001b[43m(\u001b[49m\u001b[43mfilepath\u001b[49m\u001b[43m \u001b[49m\u001b[38;5;241;43m+\u001b[39;49m\u001b[43m \u001b[49m\u001b[43meachFile\u001b[49m\u001b[43m)\u001b[49m  \u001b[38;5;66;03m# csv 파일 읽기\u001b[39;00m\n\u001b[0;32m      6\u001b[0m \u001b[38;5;28;01mexcept\u001b[39;00m \u001b[38;5;167;01mUnicodeDecodeError\u001b[39;00m:\n\u001b[0;32m      7\u001b[0m     \u001b[38;5;66;03m# UnicodeDecodeError가 발생하면 ms949로 인코딩하여 다시 시도\u001b[39;00m\n",
      "File \u001b[1;32m~\\AppData\\Local\\Programs\\Python\\Python310\\lib\\site-packages\\pandas\\io\\parsers\\readers.py:1026\u001b[0m, in \u001b[0;36mread_csv\u001b[1;34m(filepath_or_buffer, sep, delimiter, header, names, index_col, usecols, dtype, engine, converters, true_values, false_values, skipinitialspace, skiprows, skipfooter, nrows, na_values, keep_default_na, na_filter, verbose, skip_blank_lines, parse_dates, infer_datetime_format, keep_date_col, date_parser, date_format, dayfirst, cache_dates, iterator, chunksize, compression, thousands, decimal, lineterminator, quotechar, quoting, doublequote, escapechar, comment, encoding, encoding_errors, dialect, on_bad_lines, delim_whitespace, low_memory, memory_map, float_precision, storage_options, dtype_backend)\u001b[0m\n\u001b[0;32m   1024\u001b[0m kwds\u001b[38;5;241m.\u001b[39mupdate(kwds_defaults)\n\u001b[1;32m-> 1026\u001b[0m \u001b[38;5;28;01mreturn\u001b[39;00m \u001b[43m_read\u001b[49m\u001b[43m(\u001b[49m\u001b[43mfilepath_or_buffer\u001b[49m\u001b[43m,\u001b[49m\u001b[43m \u001b[49m\u001b[43mkwds\u001b[49m\u001b[43m)\u001b[49m\n",
      "File \u001b[1;32m~\\AppData\\Local\\Programs\\Python\\Python310\\lib\\site-packages\\pandas\\io\\parsers\\readers.py:620\u001b[0m, in \u001b[0;36m_read\u001b[1;34m(filepath_or_buffer, kwds)\u001b[0m\n\u001b[0;32m    619\u001b[0m \u001b[38;5;66;03m# Create the parser.\u001b[39;00m\n\u001b[1;32m--> 620\u001b[0m parser \u001b[38;5;241m=\u001b[39m TextFileReader(filepath_or_buffer, \u001b[38;5;241m*\u001b[39m\u001b[38;5;241m*\u001b[39mkwds)\n\u001b[0;32m    622\u001b[0m \u001b[38;5;28;01mif\u001b[39;00m chunksize \u001b[38;5;129;01mor\u001b[39;00m iterator:\n",
      "File \u001b[1;32m~\\AppData\\Local\\Programs\\Python\\Python310\\lib\\site-packages\\pandas\\io\\parsers\\readers.py:1620\u001b[0m, in \u001b[0;36mTextFileReader.__init__\u001b[1;34m(self, f, engine, **kwds)\u001b[0m\n\u001b[0;32m   1619\u001b[0m \u001b[38;5;28mself\u001b[39m\u001b[38;5;241m.\u001b[39mhandles: IOHandles \u001b[38;5;241m|\u001b[39m \u001b[38;5;28;01mNone\u001b[39;00m \u001b[38;5;241m=\u001b[39m \u001b[38;5;28;01mNone\u001b[39;00m\n\u001b[1;32m-> 1620\u001b[0m \u001b[38;5;28mself\u001b[39m\u001b[38;5;241m.\u001b[39m_engine \u001b[38;5;241m=\u001b[39m \u001b[38;5;28;43mself\u001b[39;49m\u001b[38;5;241;43m.\u001b[39;49m\u001b[43m_make_engine\u001b[49m\u001b[43m(\u001b[49m\u001b[43mf\u001b[49m\u001b[43m,\u001b[49m\u001b[43m \u001b[49m\u001b[38;5;28;43mself\u001b[39;49m\u001b[38;5;241;43m.\u001b[39;49m\u001b[43mengine\u001b[49m\u001b[43m)\u001b[49m\n",
      "File \u001b[1;32m~\\AppData\\Local\\Programs\\Python\\Python310\\lib\\site-packages\\pandas\\io\\parsers\\readers.py:1880\u001b[0m, in \u001b[0;36mTextFileReader._make_engine\u001b[1;34m(self, f, engine)\u001b[0m\n\u001b[0;32m   1879\u001b[0m         mode \u001b[38;5;241m+\u001b[39m\u001b[38;5;241m=\u001b[39m \u001b[38;5;124m\"\u001b[39m\u001b[38;5;124mb\u001b[39m\u001b[38;5;124m\"\u001b[39m\n\u001b[1;32m-> 1880\u001b[0m \u001b[38;5;28mself\u001b[39m\u001b[38;5;241m.\u001b[39mhandles \u001b[38;5;241m=\u001b[39m \u001b[43mget_handle\u001b[49m\u001b[43m(\u001b[49m\n\u001b[0;32m   1881\u001b[0m \u001b[43m    \u001b[49m\u001b[43mf\u001b[49m\u001b[43m,\u001b[49m\n\u001b[0;32m   1882\u001b[0m \u001b[43m    \u001b[49m\u001b[43mmode\u001b[49m\u001b[43m,\u001b[49m\n\u001b[0;32m   1883\u001b[0m \u001b[43m    \u001b[49m\u001b[43mencoding\u001b[49m\u001b[38;5;241;43m=\u001b[39;49m\u001b[38;5;28;43mself\u001b[39;49m\u001b[38;5;241;43m.\u001b[39;49m\u001b[43moptions\u001b[49m\u001b[38;5;241;43m.\u001b[39;49m\u001b[43mget\u001b[49m\u001b[43m(\u001b[49m\u001b[38;5;124;43m\"\u001b[39;49m\u001b[38;5;124;43mencoding\u001b[39;49m\u001b[38;5;124;43m\"\u001b[39;49m\u001b[43m,\u001b[49m\u001b[43m \u001b[49m\u001b[38;5;28;43;01mNone\u001b[39;49;00m\u001b[43m)\u001b[49m\u001b[43m,\u001b[49m\n\u001b[0;32m   1884\u001b[0m \u001b[43m    \u001b[49m\u001b[43mcompression\u001b[49m\u001b[38;5;241;43m=\u001b[39;49m\u001b[38;5;28;43mself\u001b[39;49m\u001b[38;5;241;43m.\u001b[39;49m\u001b[43moptions\u001b[49m\u001b[38;5;241;43m.\u001b[39;49m\u001b[43mget\u001b[49m\u001b[43m(\u001b[49m\u001b[38;5;124;43m\"\u001b[39;49m\u001b[38;5;124;43mcompression\u001b[39;49m\u001b[38;5;124;43m\"\u001b[39;49m\u001b[43m,\u001b[49m\u001b[43m \u001b[49m\u001b[38;5;28;43;01mNone\u001b[39;49;00m\u001b[43m)\u001b[49m\u001b[43m,\u001b[49m\n\u001b[0;32m   1885\u001b[0m \u001b[43m    \u001b[49m\u001b[43mmemory_map\u001b[49m\u001b[38;5;241;43m=\u001b[39;49m\u001b[38;5;28;43mself\u001b[39;49m\u001b[38;5;241;43m.\u001b[39;49m\u001b[43moptions\u001b[49m\u001b[38;5;241;43m.\u001b[39;49m\u001b[43mget\u001b[49m\u001b[43m(\u001b[49m\u001b[38;5;124;43m\"\u001b[39;49m\u001b[38;5;124;43mmemory_map\u001b[39;49m\u001b[38;5;124;43m\"\u001b[39;49m\u001b[43m,\u001b[49m\u001b[43m \u001b[49m\u001b[38;5;28;43;01mFalse\u001b[39;49;00m\u001b[43m)\u001b[49m\u001b[43m,\u001b[49m\n\u001b[0;32m   1886\u001b[0m \u001b[43m    \u001b[49m\u001b[43mis_text\u001b[49m\u001b[38;5;241;43m=\u001b[39;49m\u001b[43mis_text\u001b[49m\u001b[43m,\u001b[49m\n\u001b[0;32m   1887\u001b[0m \u001b[43m    \u001b[49m\u001b[43merrors\u001b[49m\u001b[38;5;241;43m=\u001b[39;49m\u001b[38;5;28;43mself\u001b[39;49m\u001b[38;5;241;43m.\u001b[39;49m\u001b[43moptions\u001b[49m\u001b[38;5;241;43m.\u001b[39;49m\u001b[43mget\u001b[49m\u001b[43m(\u001b[49m\u001b[38;5;124;43m\"\u001b[39;49m\u001b[38;5;124;43mencoding_errors\u001b[39;49m\u001b[38;5;124;43m\"\u001b[39;49m\u001b[43m,\u001b[49m\u001b[43m \u001b[49m\u001b[38;5;124;43m\"\u001b[39;49m\u001b[38;5;124;43mstrict\u001b[39;49m\u001b[38;5;124;43m\"\u001b[39;49m\u001b[43m)\u001b[49m\u001b[43m,\u001b[49m\n\u001b[0;32m   1888\u001b[0m \u001b[43m    \u001b[49m\u001b[43mstorage_options\u001b[49m\u001b[38;5;241;43m=\u001b[39;49m\u001b[38;5;28;43mself\u001b[39;49m\u001b[38;5;241;43m.\u001b[39;49m\u001b[43moptions\u001b[49m\u001b[38;5;241;43m.\u001b[39;49m\u001b[43mget\u001b[49m\u001b[43m(\u001b[49m\u001b[38;5;124;43m\"\u001b[39;49m\u001b[38;5;124;43mstorage_options\u001b[39;49m\u001b[38;5;124;43m\"\u001b[39;49m\u001b[43m,\u001b[49m\u001b[43m \u001b[49m\u001b[38;5;28;43;01mNone\u001b[39;49;00m\u001b[43m)\u001b[49m\u001b[43m,\u001b[49m\n\u001b[0;32m   1889\u001b[0m \u001b[43m\u001b[49m\u001b[43m)\u001b[49m\n\u001b[0;32m   1890\u001b[0m \u001b[38;5;28;01massert\u001b[39;00m \u001b[38;5;28mself\u001b[39m\u001b[38;5;241m.\u001b[39mhandles \u001b[38;5;129;01mis\u001b[39;00m \u001b[38;5;129;01mnot\u001b[39;00m \u001b[38;5;28;01mNone\u001b[39;00m\n",
      "File \u001b[1;32m~\\AppData\\Local\\Programs\\Python\\Python310\\lib\\site-packages\\pandas\\io\\common.py:873\u001b[0m, in \u001b[0;36mget_handle\u001b[1;34m(path_or_buf, mode, encoding, compression, memory_map, is_text, errors, storage_options)\u001b[0m\n\u001b[0;32m    871\u001b[0m \u001b[38;5;28;01mif\u001b[39;00m ioargs\u001b[38;5;241m.\u001b[39mencoding \u001b[38;5;129;01mand\u001b[39;00m \u001b[38;5;124m\"\u001b[39m\u001b[38;5;124mb\u001b[39m\u001b[38;5;124m\"\u001b[39m \u001b[38;5;129;01mnot\u001b[39;00m \u001b[38;5;129;01min\u001b[39;00m ioargs\u001b[38;5;241m.\u001b[39mmode:\n\u001b[0;32m    872\u001b[0m     \u001b[38;5;66;03m# Encoding\u001b[39;00m\n\u001b[1;32m--> 873\u001b[0m     handle \u001b[38;5;241m=\u001b[39m \u001b[38;5;28;43mopen\u001b[39;49m\u001b[43m(\u001b[49m\n\u001b[0;32m    874\u001b[0m \u001b[43m        \u001b[49m\u001b[43mhandle\u001b[49m\u001b[43m,\u001b[49m\n\u001b[0;32m    875\u001b[0m \u001b[43m        \u001b[49m\u001b[43mioargs\u001b[49m\u001b[38;5;241;43m.\u001b[39;49m\u001b[43mmode\u001b[49m\u001b[43m,\u001b[49m\n\u001b[0;32m    876\u001b[0m \u001b[43m        \u001b[49m\u001b[43mencoding\u001b[49m\u001b[38;5;241;43m=\u001b[39;49m\u001b[43mioargs\u001b[49m\u001b[38;5;241;43m.\u001b[39;49m\u001b[43mencoding\u001b[49m\u001b[43m,\u001b[49m\n\u001b[0;32m    877\u001b[0m \u001b[43m        \u001b[49m\u001b[43merrors\u001b[49m\u001b[38;5;241;43m=\u001b[39;49m\u001b[43merrors\u001b[49m\u001b[43m,\u001b[49m\n\u001b[0;32m    878\u001b[0m \u001b[43m        \u001b[49m\u001b[43mnewline\u001b[49m\u001b[38;5;241;43m=\u001b[39;49m\u001b[38;5;124;43m\"\u001b[39;49m\u001b[38;5;124;43m\"\u001b[39;49m\u001b[43m,\u001b[49m\n\u001b[0;32m    879\u001b[0m \u001b[43m    \u001b[49m\u001b[43m)\u001b[49m\n\u001b[0;32m    880\u001b[0m \u001b[38;5;28;01melse\u001b[39;00m:\n\u001b[0;32m    881\u001b[0m     \u001b[38;5;66;03m# Binary mode\u001b[39;00m\n",
      "\u001b[1;31mPermissionError\u001b[0m: [Errno 13] Permission denied: '../dataset2/.ipynb_checkpoints'",
      "\nDuring handling of the above exception, another exception occurred:\n",
      "\u001b[1;31mUnboundLocalError\u001b[0m                         Traceback (most recent call last)",
      "Cell \u001b[1;32mIn[9], line 31\u001b[0m\n\u001b[0;32m     28\u001b[0m         \u001b[38;5;28mprint\u001b[39m(inData)\n\u001b[0;32m     29\u001b[0m         \u001b[38;5;28mprint\u001b[39m(typeDict)\n\u001b[1;32m---> 31\u001b[0m \u001b[43mcsvToTable\u001b[49m\u001b[43m(\u001b[49m\u001b[43m)\u001b[49m\n",
      "Cell \u001b[1;32mIn[9], line 27\u001b[0m, in \u001b[0;36mcsvToTable\u001b[1;34m()\u001b[0m\n\u001b[0;32m     24\u001b[0m         inData\u001b[38;5;241m.\u001b[39mto_sql(name\u001b[38;5;241m=\u001b[39mtableName, if_exists\u001b[38;5;241m=\u001b[39m\u001b[38;5;124m\"\u001b[39m\u001b[38;5;124mreplace\u001b[39m\u001b[38;5;124m\"\u001b[39m, con\u001b[38;5;241m=\u001b[39mengine,dtype\u001b[38;5;241m=\u001b[39mtypeDict, index\u001b[38;5;241m=\u001b[39m\u001b[38;5;28;01mFalse\u001b[39;00m)    \n\u001b[0;32m     26\u001b[0m \u001b[38;5;28;01mexcept\u001b[39;00m \u001b[38;5;167;01mException\u001b[39;00m \u001b[38;5;28;01mas\u001b[39;00m e:\n\u001b[1;32m---> 27\u001b[0m     \u001b[38;5;28mprint\u001b[39m(\u001b[38;5;124m\"\u001b[39m\u001b[38;5;124m에러발생\u001b[39m\u001b[38;5;124m\"\u001b[39m \u001b[38;5;241m+\u001b[39m \u001b[43mtableName\u001b[49m)\n\u001b[0;32m     28\u001b[0m     \u001b[38;5;28mprint\u001b[39m(inData)\n\u001b[0;32m     29\u001b[0m     \u001b[38;5;28mprint\u001b[39m(typeDict)\n",
      "\u001b[1;31mUnboundLocalError\u001b[0m: local variable 'tableName' referenced before assignment"
     ]
    }
   ],
   "source": [
    "def csvToTable():\n",
    "    try:\n",
    "        for eachFile in lists:\n",
    "            try:\n",
    "                inData = pd.read_csv(filepath + eachFile)  # csv 파일 읽기\n",
    "            except UnicodeDecodeError:\n",
    "                # UnicodeDecodeError가 발생하면 ms949로 인코딩하여 다시 시도\n",
    "                inData = pd.read_csv(filepath + eachFile, encoding='ms949')\n",
    "\n",
    "            objColumns = list(inData.columns)\n",
    "            tableName = eachFile[:-4]  # eachFile에서 .csv이름 제외하고 저장\n",
    "            tableName = tableName.lower()\n",
    "            \n",
    "            # db로 저장하기\n",
    "            typeDict={}\n",
    "            \n",
    "            for column in objColumns:\n",
    "                if inData[column].dtypes  == 'float':\n",
    "                    typeDict[column] = types.Float\n",
    "                    #inData[column] = inData[column].fillna(0).astype(int)\n",
    "                    #typeDict[column] = types.VARCHAR(100)\n",
    "                elif inData[column].dtypes  == 'object':\n",
    "                    typeDict[column] = types.VARCHAR(100)\n",
    "            inData.to_sql(name=tableName, if_exists=\"replace\", con=engine,dtype=typeDict, index=False)    \n",
    "            \n",
    "    except Exception as e:\n",
    "        print(\"에러발생\" + tableName)\n",
    "        print(inData)\n",
    "        print(typeDict)\n",
    "\n",
    "csvToTable()"
   ]
  },
  {
   "cell_type": "code",
   "execution_count": null,
   "id": "6804bc87-0254-4c47-a07e-258a2fb80aa8",
   "metadata": {},
   "outputs": [],
   "source": []
  }
 ],
 "metadata": {
  "kernelspec": {
   "display_name": "Python 3 (ipykernel)",
   "language": "python",
   "name": "python3"
  },
  "language_info": {
   "codemirror_mode": {
    "name": "ipython",
    "version": 3
   },
   "file_extension": ".py",
   "mimetype": "text/x-python",
   "name": "python",
   "nbconvert_exporter": "python",
   "pygments_lexer": "ipython3",
   "version": "3.10.11"
  }
 },
 "nbformat": 4,
 "nbformat_minor": 5
}
