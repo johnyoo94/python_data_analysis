{
 "cells": [
  {
   "cell_type": "code",
   "execution_count": 1,
   "id": "808eeaff-045b-4b5b-aaef-7eb2083997af",
   "metadata": {},
   "outputs": [],
   "source": [
    "import pandas as pd\n",
    "from sqlalchemy import create_engine, types\n",
    "import cx_Oracle as oci"
   ]
  },
  {
   "cell_type": "code",
   "execution_count": null,
   "id": "67c4881c-8a4c-4292-a32d-b72c1b06e1d8",
   "metadata": {},
   "outputs": [],
   "source": [
    "id = \"\"\n",
    "pw = \"\"\n",
    "ip = \"\"\n",
    "port = \"1521\"\n",
    "dbName = \"\"\n",
    "#DB커넥션 열기 \n",
    "engine = create_engine('oracle+cx_oracle://{}:{}@{}:{}/{}'.format(id,pw,ip,port,dbName) )\n",
    "#근무지 -> DS_GNMUJI\n",
    "#부서 -> DS_BUSEO\n",
    "#사원 -> DS_SAWON\n",
    "#직급 -> DS_JIKKB\n",
    "indata = pd.read_csv(\"\", encoding=\"ms949\")\n",
    "tableName = \"\""
   ]
  },
  {
   "cell_type": "code",
   "execution_count": null,
   "id": "d5a55016-e030-4a7f-beea-9e4d7ffd58d0",
   "metadata": {},
   "outputs": [],
   "source": [
    "indata.to_sql(name = tableName,\n",
    "              con = engine,\n",
    "              if_exists=\"replace\",\n",
    "              dtype = typeDict,\n",
    "              index = False)"
   ]
  }
 ],
 "metadata": {
  "kernelspec": {
   "display_name": "Python 3 (ipykernel)",
   "language": "python",
   "name": "python3"
  },
  "language_info": {
   "codemirror_mode": {
    "name": "ipython",
    "version": 3
   },
   "file_extension": ".py",
   "mimetype": "text/x-python",
   "name": "python",
   "nbconvert_exporter": "python",
   "pygments_lexer": "ipython3",
   "version": "3.10.11"
  }
 },
 "nbformat": 4,
 "nbformat_minor": 5
}
